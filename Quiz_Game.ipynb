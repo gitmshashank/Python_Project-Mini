{
 "cells": [
  {
   "cell_type": "code",
   "execution_count": 1,
   "metadata": {},
   "outputs": [
    {
     "name": "stdout",
     "output_type": "stream",
     "text": [
      "Welcome to my Computer Quiz\n"
     ]
    }
   ],
   "source": [
    "print(\"Welcome to my Computer Quiz\")\n",
    "\n",
    "playing = input(\"Do you want to play games? \")\n",
    "\n",
    "if playing.lower() != \"yes\":\n",
    "    quit()\n",
    "score = 0\n",
    "\n",
    "print(\" Alrighty! Let's Play then :-) \")\n",
    "\n",
    "answer= input(\"What does the CPU stands for?  \")\n",
    "if answer.lower() == \"central processing unit\":\n",
    "    print(\"Correct Answer\")\n",
    "    score +=1\n",
    "else:\n",
    "    print(\"Incorrect!\")\n",
    "\n",
    "answer= input(\"What does the GPU stands for?  \")\n",
    "if answer.lower() == \"graphics processing unit\":\n",
    "    print(\"Correct Answer\")\n",
    "    score +=1\n",
    "else:\n",
    "    print(\"Incorrect!\")\n",
    "\n",
    "answer= input(\"What does the RAM stands for?  \")\n",
    "if answer.lower() == \"randon access memory\":\n",
    "    print(\"Correct Answer\")\n",
    "    score +=1\n",
    "else:\n",
    "    print(\"Incorrect!\")\n",
    "\n",
    "answer= input(\"What does the PSU stands for?  \")\n",
    "if answer.lower() == \"power supply unit\":\n",
    "    print(\"Correct Answer\")\n",
    "    score +=1\n",
    "else:\n",
    "    print(\"Incorrect!\")\n",
    "\n",
    "print(\"You've got  \" + str(score) + \"Questions Correct!\")\n",
    "print(\"You've got  \" + str((score / 4) * 100) + \"%.yes\")\n"
   ]
  }
 ],
 "metadata": {
  "kernelspec": {
   "display_name": "Python 3",
   "language": "python",
   "name": "python3"
  },
  "language_info": {
   "codemirror_mode": {
    "name": "ipython",
    "version": 3
   },
   "file_extension": ".py",
   "mimetype": "text/x-python",
   "name": "python",
   "nbconvert_exporter": "python",
   "pygments_lexer": "ipython3",
   "version": "3.9.6"
  }
 },
 "nbformat": 4,
 "nbformat_minor": 2
}
